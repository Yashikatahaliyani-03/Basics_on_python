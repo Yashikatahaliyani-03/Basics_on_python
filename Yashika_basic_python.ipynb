{
  "nbformat": 4,
  "nbformat_minor": 0,
  "metadata": {
    "colab": {
      "provenance": [],
      "authorship_tag": "ABX9TyNyFEkWGcxNXvO8hAI4CXFd",
      "include_colab_link": true
    },
    "kernelspec": {
      "name": "python3",
      "display_name": "Python 3"
    },
    "language_info": {
      "name": "python"
    }
  },
  "cells": [
    {
      "cell_type": "markdown",
      "metadata": {
        "id": "view-in-github",
        "colab_type": "text"
      },
      "source": [
        "<a href=\"https://colab.research.google.com/github/Yashikatahaliyani-03/Basics_on_python/blob/main/Yashika_basic_python.ipynb\" target=\"_parent\"><img src=\"https://colab.research.google.com/assets/colab-badge.svg\" alt=\"Open In Colab\"/></a>"
      ]
    },
    {
      "cell_type": "code",
      "execution_count": null,
      "metadata": {
        "id": "t4jkqTVp7kw0"
      },
      "outputs": [],
      "source": [
        "'''\n",
        "For *list its {append, insert, remove, sort}\n",
        "*String {upper, lover, replace, split}\n",
        "*Dictionaries {get, keys, values, items}\n",
        "*Tuples {index, count, len}\n",
        "'''"
      ]
    },
    {
      "cell_type": "code",
      "source": [
        "#QUETION 01\n",
        "def reverse_and_concatenate(A, B):\n",
        "    reversed_A = A[::-1]\n",
        "    result = reversed_A + B\n",
        "    return result\n",
        "\n",
        "string_A = \"Hello\"\n",
        "string_B = \"World\"\n",
        "result = reverse_and_concatenate(string_A, string_B)\n",
        "print(result)"
      ],
      "metadata": {
        "id": "rD9zSPAo81bk"
      },
      "execution_count": null,
      "outputs": []
    },
    {
      "cell_type": "code",
      "source": [
        "#Que 02\n",
        "def find_highest_working_female(work_hours, hourly_rate=20):\n",
        "    max_hours = 0\n",
        "    female_worker = None\n",
        "\n",
        "    for name, hours, gender in work_hours:\n",
        "        if gender == 'F' and hours > max_hours:\n",
        "            max_hours = hours\n",
        "            female_worker = name\n",
        "\n",
        "    if female_worker:\n",
        "        pay = max_hours * hourly_rate\n",
        "        return f\"The female worker who worked the most hours is {female_worker} with {max_hours} hours. She should be paid ${pay}.\"\n",
        "    else:\n",
        "        return \"No female workers found.\"\n",
        "\n",
        "work_hours = [('Abby', 100, 'F'), ('Billy', 400, 'M'), ('Cassie', 800, 'F'), ('Maggi', 600, 'F'), ('Alex', 500, 'M'), ('Raj', 225, 'M'), ('Penny', 920, 'F'), ('Ben', 300, 'M')]\n",
        "\n",
        "result = find_highest_working_female(work_hours)\n",
        "print(result)"
      ],
      "metadata": {
        "id": "xYsi1uFg85rV"
      },
      "execution_count": null,
      "outputs": []
    },
    {
      "cell_type": "code",
      "source": [
        "#Quetion 03 A\n",
        "import numpy as np\n",
        "\n",
        "base_matrix = np.array([[1, 1], [2, 2]])\n",
        "\n",
        "matrix = np.tile(base_matrix, (2, 2))\n",
        "\n",
        "print(matrix)"
      ],
      "metadata": {
        "id": "DHWHgc7O9TrE"
      },
      "execution_count": null,
      "outputs": []
    },
    {
      "cell_type": "code",
      "source": [
        "#B\n",
        "import numpy as np\n",
        "\n",
        "matrix1 = np.array([[1, 2], [3, 4]])\n",
        "matrix2 = np.array([[5, 6], [7, 8]])\n",
        "\n",
        "if matrix1.shape[1] == matrix2.shape[0]:\n",
        "    dot_product = np.dot(matrix1, matrix2)\n",
        "    print(\"Dot Product Result:\")\n",
        "    print(dot_product)\n",
        "else:\n",
        "    print(\"Matrix dimensions are not compatible for dot product.\")"
      ],
      "metadata": {
        "id": "JrnNlhEL9cNZ"
      },
      "execution_count": null,
      "outputs": []
    },
    {
      "cell_type": "code",
      "source": [
        "*#Quetion 03 A\n",
        "import numpy as np\n",
        "\n",
        "sub_matrix = np.array([[1, 1], [2, 2]])\n",
        "\n",
        "result_matrix = np.tile(sub_matrix, (3, 3))\n",
        "\n",
        "print(result_matrix)*"
      ],
      "metadata": {
        "id": "Cf_F664P9kTQ"
      },
      "execution_count": null,
      "outputs": []
    }
  ]
}